{
 "cells": [
  {
   "cell_type": "code",
   "execution_count": 1,
   "metadata": {},
   "outputs": [],
   "source": [
    "import Interface "
   ]
  },
  {
   "cell_type": "code",
   "execution_count": 2,
   "metadata": {},
   "outputs": [
    {
     "name": "stdout",
     "output_type": "stream",
     "text": [
      "{\"got_scale\":true}\n",
      "\n",
      "{'height': 298.2490251715694}\n"
     ]
    },
    {
     "data": {
      "text/plain": [
       "(267.55555555555554, 300.44444444444446)"
      ]
     },
     "execution_count": 2,
     "metadata": {},
     "output_type": "execute_result"
    }
   ],
   "source": [
    "import requests\n",
    "import cv2\n",
    "\n",
    "base_url = \"https://mariomagdy.pythonanywhere.com/\"\n",
    "functionss = ['initiate', 'scale_using_reference', 'estimate_height']\n",
    "img_num = 23\n",
    "img_path = f'imgs/Annoteted_PoleImage_{img_num}.JPG'\n",
    "\n",
    "\n",
    "\n",
    "# img_num = 28\n",
    "# img_path = fr'imgs\\10a_1.jpg'\n",
    "\n",
    "\n",
    "files = {'image': open(img_path, 'rb')}\n",
    "\n",
    "img = cv2.imread(img_path, 1)\n",
    "\n",
    "inteface1 = Interface.interface()\n",
    "\n",
    "user_base_cord = [str(int(i)) for i in inteface1.get_user_input(img, \"Please click the base of the pole\")]\n",
    "img2 = inteface1.draw_boxes_image( img, [inteface1.get_box_from_point([int(j) for j in user_base_cord])])\n",
    "\n",
    "data = {'base_coordinates': ','.join(user_base_cord)}  # Example coordinates\n",
    "\n",
    "# Use a session to persist cookies across requests\n",
    "session = requests.Session()\n",
    "\n",
    "# Initiate request\n",
    "response = session.post(base_url + 'initiate', files=files, data=data)\n",
    "res = response.json()\n",
    "\n",
    "img3 = img2.copy()\n",
    "\n",
    "if not res['got_scale']:\n",
    "    user_meas_cord = [str(int(i)) for i in inteface1.get_user_input2(img2, [\"The image has no metadata so\",\"Please click the end of the measurement stick\"], text_s=0.7)]\n",
    "\n",
    "    img3 = inteface1.draw_boxes_image( img2, [inteface1.get_box_from_point([int(j) for j in user_meas_cord])])\n",
    "\n",
    "    data = {'reference_point': ','.join(user_meas_cord)}  # Example coordinates\n",
    "    response = session.post(base_url + 'scale_using_reference', data=data)\n",
    "    print(response.text)\n",
    "    res = response.json()\n",
    "    \n",
    "    if not res['got_scale']:\n",
    "        print(\"Error getting Scale\")\n",
    "        print(\"program terminated\")\n",
    "        exit()\n",
    "\n",
    "\n",
    "user_height_cord = [str(int(i)) for i in inteface1.get_user_input(img3, \"\"\"Please Click any point to get the height of\"\"\", text_s=0.7)]\n",
    "\n",
    "img4 = inteface1.draw_boxes_image( img3, [inteface1.get_box_from_point([int(j) for j in user_height_cord])])\n",
    "\n",
    "data = {'height_point': ','.join(user_height_cord)}  # Example coordinates\n",
    "response = session.post(base_url + 'estimate_height', data=data)\n",
    "res = response.json()\n",
    "print(res)  # Print the response to see the estimated height\n",
    "\n",
    "inteface1.get_user_input(img4,f\"The Height of the point is: {round(res['height']/12,2)}ft\")\n",
    "\n"
   ]
  },
  {
   "cell_type": "code",
   "execution_count": 5,
   "metadata": {},
   "outputs": [
    {
     "data": {
      "text/plain": [
       "45"
      ]
     },
     "execution_count": 5,
     "metadata": {},
     "output_type": "execute_result"
    }
   ],
   "source": [
    "len('*********************************************')"
   ]
  },
  {
   "cell_type": "code",
   "execution_count": 6,
   "metadata": {},
   "outputs": [
    {
     "name": "stdout",
     "output_type": "stream",
     "text": [
      "Collecting inference-sdk\n",
      "  Downloading inference_sdk-0.15.2-py3-none-any.whl.metadata (11 kB)\n",
      "Requirement already satisfied: requests>=2.0.0 in c:\\users\\mario\\appdata\\local\\packages\\pythonsoftwarefoundation.python.3.11_qbz5n2kfra8p0\\localcache\\local-packages\\python311\\site-packages (from inference-sdk) (2.31.0)\n",
      "Collecting dataclasses-json>=0.6.0 (from inference-sdk)\n",
      "  Downloading dataclasses_json-0.6.7-py3-none-any.whl.metadata (25 kB)\n",
      "Requirement already satisfied: opencv-python>=4.8.0.0 in c:\\users\\mario\\appdata\\local\\packages\\pythonsoftwarefoundation.python.3.11_qbz5n2kfra8p0\\localcache\\local-packages\\python311\\site-packages (from inference-sdk) (4.10.0.84)\n",
      "Requirement already satisfied: pillow>=9.0.0 in c:\\users\\mario\\appdata\\local\\packages\\pythonsoftwarefoundation.python.3.11_qbz5n2kfra8p0\\localcache\\local-packages\\python311\\site-packages (from inference-sdk) (10.4.0)\n",
      "Collecting supervision<1.0.0,>=0.20.0 (from inference-sdk)\n",
      "  Downloading supervision-0.22.0-py3-none-any.whl.metadata (13 kB)\n",
      "Requirement already satisfied: numpy<=1.26.4 in c:\\users\\mario\\appdata\\local\\packages\\pythonsoftwarefoundation.python.3.11_qbz5n2kfra8p0\\localcache\\local-packages\\python311\\site-packages (from inference-sdk) (1.23.5)\n",
      "Requirement already satisfied: aiohttp>=3.9.0 in c:\\users\\mario\\appdata\\local\\packages\\pythonsoftwarefoundation.python.3.11_qbz5n2kfra8p0\\localcache\\local-packages\\python311\\site-packages (from inference-sdk) (3.9.1)\n",
      "Collecting backoff>=2.2.0 (from inference-sdk)\n",
      "  Downloading backoff-2.2.1-py3-none-any.whl.metadata (14 kB)\n",
      "Collecting aioresponses>=0.7.6 (from inference-sdk)\n",
      "  Downloading aioresponses-0.7.6-py2.py3-none-any.whl.metadata (9.8 kB)\n",
      "Requirement already satisfied: py-cpuinfo>=9.0.0 in c:\\users\\mario\\appdata\\local\\packages\\pythonsoftwarefoundation.python.3.11_qbz5n2kfra8p0\\localcache\\local-packages\\python311\\site-packages (from inference-sdk) (9.0.0)\n",
      "Requirement already satisfied: attrs>=17.3.0 in c:\\users\\mario\\appdata\\local\\packages\\pythonsoftwarefoundation.python.3.11_qbz5n2kfra8p0\\localcache\\local-packages\\python311\\site-packages (from aiohttp>=3.9.0->inference-sdk) (23.1.0)\n",
      "Requirement already satisfied: multidict<7.0,>=4.5 in c:\\users\\mario\\appdata\\local\\packages\\pythonsoftwarefoundation.python.3.11_qbz5n2kfra8p0\\localcache\\local-packages\\python311\\site-packages (from aiohttp>=3.9.0->inference-sdk) (6.0.4)\n",
      "Requirement already satisfied: yarl<2.0,>=1.0 in c:\\users\\mario\\appdata\\local\\packages\\pythonsoftwarefoundation.python.3.11_qbz5n2kfra8p0\\localcache\\local-packages\\python311\\site-packages (from aiohttp>=3.9.0->inference-sdk) (1.9.4)\n",
      "Requirement already satisfied: frozenlist>=1.1.1 in c:\\users\\mario\\appdata\\local\\packages\\pythonsoftwarefoundation.python.3.11_qbz5n2kfra8p0\\localcache\\local-packages\\python311\\site-packages (from aiohttp>=3.9.0->inference-sdk) (1.4.1)\n",
      "Requirement already satisfied: aiosignal>=1.1.2 in c:\\users\\mario\\appdata\\local\\packages\\pythonsoftwarefoundation.python.3.11_qbz5n2kfra8p0\\localcache\\local-packages\\python311\\site-packages (from aiohttp>=3.9.0->inference-sdk) (1.3.1)\n",
      "Collecting marshmallow<4.0.0,>=3.18.0 (from dataclasses-json>=0.6.0->inference-sdk)\n",
      "  Downloading marshmallow-3.21.3-py3-none-any.whl.metadata (7.1 kB)\n",
      "Collecting typing-inspect<1,>=0.4.0 (from dataclasses-json>=0.6.0->inference-sdk)\n",
      "  Downloading typing_inspect-0.9.0-py3-none-any.whl.metadata (1.5 kB)\n",
      "Requirement already satisfied: charset-normalizer<4,>=2 in c:\\users\\mario\\appdata\\local\\packages\\pythonsoftwarefoundation.python.3.11_qbz5n2kfra8p0\\localcache\\local-packages\\python311\\site-packages (from requests>=2.0.0->inference-sdk) (3.1.0)\n",
      "Requirement already satisfied: idna<4,>=2.5 in c:\\users\\mario\\appdata\\local\\packages\\pythonsoftwarefoundation.python.3.11_qbz5n2kfra8p0\\localcache\\local-packages\\python311\\site-packages (from requests>=2.0.0->inference-sdk) (2.10)\n",
      "Requirement already satisfied: urllib3<3,>=1.21.1 in c:\\users\\mario\\appdata\\local\\packages\\pythonsoftwarefoundation.python.3.11_qbz5n2kfra8p0\\localcache\\local-packages\\python311\\site-packages (from requests>=2.0.0->inference-sdk) (1.26.16)\n",
      "Requirement already satisfied: certifi>=2017.4.17 in c:\\users\\mario\\appdata\\local\\packages\\pythonsoftwarefoundation.python.3.11_qbz5n2kfra8p0\\localcache\\local-packages\\python311\\site-packages (from requests>=2.0.0->inference-sdk) (2023.5.7)\n",
      "Requirement already satisfied: defusedxml<0.8.0,>=0.7.1 in c:\\users\\mario\\appdata\\local\\packages\\pythonsoftwarefoundation.python.3.11_qbz5n2kfra8p0\\localcache\\local-packages\\python311\\site-packages (from supervision<1.0.0,>=0.20.0->inference-sdk) (0.7.1)\n",
      "Requirement already satisfied: matplotlib>=3.6.0 in c:\\users\\mario\\appdata\\local\\packages\\pythonsoftwarefoundation.python.3.11_qbz5n2kfra8p0\\localcache\\local-packages\\python311\\site-packages (from supervision<1.0.0,>=0.20.0->inference-sdk) (3.7.2)\n",
      "Requirement already satisfied: opencv-python-headless>=4.5.5.64 in c:\\users\\mario\\appdata\\local\\packages\\pythonsoftwarefoundation.python.3.11_qbz5n2kfra8p0\\localcache\\local-packages\\python311\\site-packages (from supervision<1.0.0,>=0.20.0->inference-sdk) (4.9.0.80)\n",
      "Requirement already satisfied: pyyaml>=5.3 in c:\\users\\mario\\appdata\\local\\packages\\pythonsoftwarefoundation.python.3.11_qbz5n2kfra8p0\\localcache\\local-packages\\python311\\site-packages (from supervision<1.0.0,>=0.20.0->inference-sdk) (6.0.1)\n",
      "Requirement already satisfied: scipy<2.0.0,>=1.10.0 in c:\\users\\mario\\appdata\\local\\packages\\pythonsoftwarefoundation.python.3.11_qbz5n2kfra8p0\\localcache\\local-packages\\python311\\site-packages (from supervision<1.0.0,>=0.20.0->inference-sdk) (1.11.2)\n",
      "Requirement already satisfied: packaging>=17.0 in c:\\users\\mario\\appdata\\local\\packages\\pythonsoftwarefoundation.python.3.11_qbz5n2kfra8p0\\localcache\\local-packages\\python311\\site-packages (from marshmallow<4.0.0,>=3.18.0->dataclasses-json>=0.6.0->inference-sdk) (23.1)\n",
      "Requirement already satisfied: contourpy>=1.0.1 in c:\\users\\mario\\appdata\\local\\packages\\pythonsoftwarefoundation.python.3.11_qbz5n2kfra8p0\\localcache\\local-packages\\python311\\site-packages (from matplotlib>=3.6.0->supervision<1.0.0,>=0.20.0->inference-sdk) (1.1.0)\n",
      "Requirement already satisfied: cycler>=0.10 in c:\\users\\mario\\appdata\\local\\packages\\pythonsoftwarefoundation.python.3.11_qbz5n2kfra8p0\\localcache\\local-packages\\python311\\site-packages (from matplotlib>=3.6.0->supervision<1.0.0,>=0.20.0->inference-sdk) (0.11.0)\n",
      "Requirement already satisfied: fonttools>=4.22.0 in c:\\users\\mario\\appdata\\local\\packages\\pythonsoftwarefoundation.python.3.11_qbz5n2kfra8p0\\localcache\\local-packages\\python311\\site-packages (from matplotlib>=3.6.0->supervision<1.0.0,>=0.20.0->inference-sdk) (4.41.0)\n",
      "Requirement already satisfied: kiwisolver>=1.0.1 in c:\\users\\mario\\appdata\\local\\packages\\pythonsoftwarefoundation.python.3.11_qbz5n2kfra8p0\\localcache\\local-packages\\python311\\site-packages (from matplotlib>=3.6.0->supervision<1.0.0,>=0.20.0->inference-sdk) (1.4.4)\n",
      "Requirement already satisfied: pyparsing<3.1,>=2.3.1 in c:\\users\\mario\\appdata\\local\\packages\\pythonsoftwarefoundation.python.3.11_qbz5n2kfra8p0\\localcache\\local-packages\\python311\\site-packages (from matplotlib>=3.6.0->supervision<1.0.0,>=0.20.0->inference-sdk) (3.0.9)\n",
      "Requirement already satisfied: python-dateutil>=2.7 in c:\\users\\mario\\appdata\\local\\packages\\pythonsoftwarefoundation.python.3.11_qbz5n2kfra8p0\\localcache\\local-packages\\python311\\site-packages (from matplotlib>=3.6.0->supervision<1.0.0,>=0.20.0->inference-sdk) (2.8.2)\n",
      "Collecting mypy-extensions>=0.3.0 (from typing-inspect<1,>=0.4.0->dataclasses-json>=0.6.0->inference-sdk)\n",
      "  Downloading mypy_extensions-1.0.0-py3-none-any.whl.metadata (1.1 kB)\n",
      "Requirement already satisfied: typing-extensions>=3.7.4 in c:\\users\\mario\\appdata\\local\\packages\\pythonsoftwarefoundation.python.3.11_qbz5n2kfra8p0\\localcache\\local-packages\\python311\\site-packages (from typing-inspect<1,>=0.4.0->dataclasses-json>=0.6.0->inference-sdk) (4.12.2)\n",
      "Requirement already satisfied: six>=1.5 in c:\\users\\mario\\appdata\\local\\packages\\pythonsoftwarefoundation.python.3.11_qbz5n2kfra8p0\\localcache\\local-packages\\python311\\site-packages (from python-dateutil>=2.7->matplotlib>=3.6.0->supervision<1.0.0,>=0.20.0->inference-sdk) (1.16.0)\n",
      "Downloading inference_sdk-0.15.2-py3-none-any.whl (30 kB)\n",
      "Downloading aioresponses-0.7.6-py2.py3-none-any.whl (11 kB)\n",
      "Downloading backoff-2.2.1-py3-none-any.whl (15 kB)\n",
      "Downloading dataclasses_json-0.6.7-py3-none-any.whl (28 kB)\n",
      "Downloading supervision-0.22.0-py3-none-any.whl (135 kB)\n",
      "   ---------------------------------------- 0.0/135.7 kB ? eta -:--:--\n",
      "   ------------------ --------------------- 61.4/135.7 kB 3.4 MB/s eta 0:00:01\n",
      "   ---------------------------------------- 135.7/135.7 kB 1.3 MB/s eta 0:00:00\n",
      "Downloading marshmallow-3.21.3-py3-none-any.whl (49 kB)\n",
      "   ---------------------------------------- 0.0/49.2 kB ? eta -:--:--\n",
      "   ---------------------------------------- 49.2/49.2 kB 2.4 MB/s eta 0:00:00\n",
      "Downloading typing_inspect-0.9.0-py3-none-any.whl (8.8 kB)\n",
      "Downloading mypy_extensions-1.0.0-py3-none-any.whl (4.7 kB)\n",
      "Installing collected packages: mypy-extensions, marshmallow, backoff, typing-inspect, supervision, dataclasses-json, aioresponses, inference-sdk\n",
      "Successfully installed aioresponses-0.7.6 backoff-2.2.1 dataclasses-json-0.6.7 inference-sdk-0.15.2 marshmallow-3.21.3 mypy-extensions-1.0.0 supervision-0.22.0 typing-inspect-0.9.0\n"
     ]
    },
    {
     "name": "stderr",
     "output_type": "stream",
     "text": [
      "\n",
      "[notice] A new release of pip is available: 24.1.1 -> 24.2\n",
      "[notice] To update, run: C:\\Users\\Mario\\AppData\\Local\\Microsoft\\WindowsApps\\PythonSoftwareFoundation.Python.3.11_qbz5n2kfra8p0\\python.exe -m pip install --upgrade pip\n"
     ]
    }
   ],
   "source": [
    "!pip install inference-sdk\n"
   ]
  },
  {
   "cell_type": "code",
   "execution_count": 11,
   "metadata": {},
   "outputs": [],
   "source": [
    "from inference_sdk import InferenceHTTPClient\n",
    "\n",
    "CLIENT = InferenceHTTPClient(\n",
    "    api_url=\"https://detect.roboflow.com\",\n",
    "    api_key=\"IkMquMsq2rK36b4fDbTs\"\n",
    ")\n",
    "\n"
   ]
  },
  {
   "cell_type": "code",
   "execution_count": 12,
   "metadata": {},
   "outputs": [],
   "source": [
    "\n",
    "\n",
    "result = CLIENT.infer('imgs\\Annoteted_PoleImage_24.JPG', model_id=\"poleobjectdetection/3\")"
   ]
  },
  {
   "cell_type": "code",
   "execution_count": 13,
   "metadata": {},
   "outputs": [
    {
     "data": {
      "text/plain": [
       "{'inference_id': '84bd009b-06db-448f-b343-43797c51d1f0',\n",
       " 'time': 0.051490066000042134,\n",
       " 'image': {'width': 548, 'height': 800},\n",
       " 'predictions': [{'x': 267.5,\n",
       "   'y': 399.5,\n",
       "   'width': 41.0,\n",
       "   'height': 631.0,\n",
       "   'confidence': 0.6457787156105042,\n",
       "   'class': 'pole',\n",
       "   'class_id': 0,\n",
       "   'detection_id': 'd735eff2-6534-4cb3-88ef-fa0effc8fd9d'}]}"
      ]
     },
     "execution_count": 13,
     "metadata": {},
     "output_type": "execute_result"
    }
   ],
   "source": [
    "result"
   ]
  },
  {
   "cell_type": "code",
   "execution_count": null,
   "metadata": {},
   "outputs": [],
   "source": []
  }
 ],
 "metadata": {
  "kernelspec": {
   "display_name": "Python 3",
   "language": "python",
   "name": "python3"
  },
  "language_info": {
   "codemirror_mode": {
    "name": "ipython",
    "version": 3
   },
   "file_extension": ".py",
   "mimetype": "text/x-python",
   "name": "python",
   "nbconvert_exporter": "python",
   "pygments_lexer": "ipython3",
   "version": "3.11.9"
  }
 },
 "nbformat": 4,
 "nbformat_minor": 2
}
